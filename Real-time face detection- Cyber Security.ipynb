{
 "cells": [
  {
   "cell_type": "markdown",
   "metadata": {},
   "source": [
    "Project 2. Real-time face detection- Cyber Security\n",
    "\n",
    "Problem Statement: Build an application to detect face using opencv\n",
    "(Dataset not required / using webcam)"
   ]
  }
 ],
 "nbformat": 4,
 "nbformat_minor": 5,
 "metadata": {}
}
